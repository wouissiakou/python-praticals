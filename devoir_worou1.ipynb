{
 "cells": [
  {
   "cell_type": "markdown",
   "metadata": {},
   "source": [
    "Init2Py-01 – Conditionals & For loops"
   ]
  },
  {
   "cell_type": "markdown",
   "metadata": {},
   "source": [
    "1."
   ]
  },
  {
   "cell_type": "code",
   "execution_count": 1,
   "metadata": {},
   "outputs": [
    {
     "name": "stdout",
     "output_type": "stream",
     "text": [
      "donnez un entier naturel  4\n",
      "18\n"
     ]
    }
   ],
   "source": [
    "n=int(input(\"donnez un entier naturel  \"))\n",
    "s=0\n",
    "for i in range(0,n):\n",
    "  s+=(i+3)\n",
    "print(s)"
   ]
  },
  {
   "cell_type": "code",
   "execution_count": null,
   "metadata": {},
   "outputs": [],
   "source": [
    "n=int(input(\"donnez un entier naturel  \"))\n",
    "p=1\n",
    "for i in range(0,n):\n",
    "  p*=(i+3)\n",
    "print(p)"
   ]
  },
  {
   "cell_type": "markdown",
   "metadata": {},
   "source": [
    "2."
   ]
  },
  {
   "cell_type": "code",
   "execution_count": 8,
   "metadata": {},
   "outputs": [
    {
     "ename": "SyntaxError",
     "evalue": "unexpected EOF while parsing (<ipython-input-8-eeb06e0acd47>, line 9)",
     "output_type": "error",
     "traceback": [
      "\u001b[0;36m  File \u001b[0;32m\"<ipython-input-8-eeb06e0acd47>\"\u001b[0;36m, line \u001b[0;32m9\u001b[0m\n\u001b[0;31m    \u001b[0m\n\u001b[0m    ^\u001b[0m\n\u001b[0;31mSyntaxError\u001b[0m\u001b[0;31m:\u001b[0m unexpected EOF while parsing\n"
     ]
    }
   ],
   "source": [
    "jourSemaine=('lundi','Mardi','Mercredi','Jeudi','Vendredi','Samedi','Dimanche')\n",
    "i=int(input(\"donnez le numero du jours \"))\n",
    "for j in range(0,5): \n",
    "    if j==i:\n",
    "        print(jourSemaine[j])\n",
    "    else:\n",
    "       # print(\"Weekend\")\n",
    "        \n",
    "    \n"
   ]
  },
  {
   "cell_type": "code",
   "execution_count": 5,
   "metadata": {},
   "outputs": [
    {
     "name": "stdout",
     "output_type": "stream",
     "text": [
      "donnez le numero du jours 0\n",
      "lundi\n"
     ]
    }
   ],
   "source": [
    "jourSemaine=('lundi','Mardi','Mercredi','Jeudi','Vendredi','Weekend','Weekend')\n",
    "i=int(input(\"donnez le numero du jours \"))\n",
    "print(jourSemaine[i])  "
   ]
  },
  {
   "cell_type": "markdown",
   "metadata": {},
   "source": [
    "3."
   ]
  },
  {
   "cell_type": "code",
   "execution_count": 11,
   "metadata": {},
   "outputs": [
    {
     "name": "stdout",
     "output_type": "stream",
     "text": [
      "donner le numero du mois  7\n",
      "le nombre de jour de ce mois est  31\n"
     ]
    }
   ],
   "source": [
    "nombreDeJourDumois=(31,28,31,30,31,30,31,31,30,31,30,31)\n",
    "n=int(input(\"donner le numero du mois  \"))\n",
    "for i in range(0,12):\n",
    "    if i==n:\n",
    "        print(\"le nombre de jour de ce mois est \",nombreDeJourDumois[i])"
   ]
  },
  {
   "cell_type": "markdown",
   "metadata": {},
   "source": [
    "4."
   ]
  },
  {
   "cell_type": "code",
   "execution_count": 15,
   "metadata": {},
   "outputs": [
    {
     "name": "stdout",
     "output_type": "stream",
     "text": [
      "Issiakou WOROU WOUIGNANSO\n",
      "Issiakou WOROU WOUIGNANSO\n",
      "Issiakou WOROU WOUIGNANSO\n"
     ]
    }
   ],
   "source": [
    "myname=\"Issiakou WOROU WOUIGNANSO\"\n",
    "for i in range(1,4):\n",
    "    print(myname)\n"
   ]
  },
  {
   "cell_type": "code",
   "execution_count": 25,
   "metadata": {},
   "outputs": [
    {
     "name": "stdout",
     "output_type": "stream",
     "text": [
      "Issiakou WOROU WOUIGNANSO\n",
      "Issiakou WOROU WOUIGNANSO\n",
      "Issiakou WOROU WOUIGNANSO\n"
     ]
    }
   ],
   "source": [
    "myname=\"Issiakou WOROU WOUIGNANSO\"\n",
    "i=0\n",
    "while 0<=i<=2:\n",
    "    print(myname)\n",
    "    i=i+1"
   ]
  },
  {
   "cell_type": "markdown",
   "metadata": {},
   "source": [
    "5."
   ]
  },
  {
   "cell_type": "code",
   "execution_count": 44,
   "metadata": {},
   "outputs": [
    {
     "name": "stdout",
     "output_type": "stream",
     "text": [
      "donnez le prenier terme de lasuite de Fibonaci1\n",
      "donnez le deuxieme terme de lasuite de Fibonaci2\n",
      "1.0\n",
      "2.0\n",
      "3.0\n",
      "5.0\n",
      "8.0\n",
      "13.0\n",
      "21.0\n",
      "34.0\n",
      "55.0\n",
      "89.0\n",
      "144.0\n",
      "233.0\n",
      "377.0\n",
      "610.0\n",
      "987.0\n"
     ]
    }
   ],
   "source": [
    "a0=float(input(\"donnez le prenier terme de lasuite de Fibonaci\"))\n",
    "a1=float(input(\"donnez le deuxieme terme de lasuite de Fibonaci\"))\n",
    "a={}\n",
    "a[0]=a0\n",
    "a[1]=a1\n",
    "print(a0)\n",
    "print(a1)\n",
    "for i in range(2,15):\n",
    "    a[i]=a[i-1]+a[i-2]\n",
    "    print(a[i])"
   ]
  },
  {
   "cell_type": "markdown",
   "metadata": {},
   "source": [
    "6."
   ]
  },
  {
   "cell_type": "code",
   "execution_count": 45,
   "metadata": {},
   "outputs": [
    {
     "name": "stdout",
     "output_type": "stream",
     "text": [
      "donnez le prenier terme de lasuite de Fibonaci1\n",
      "donnez le deuxieme terme de lasuite de Fibonaci2\n",
      "1.0\n",
      "2.0\n",
      "4.0\n",
      "8.0\n",
      "16.0\n",
      "32.0\n",
      "64.0\n",
      "128.0\n",
      "256.0\n",
      "512.0\n",
      "1024.0\n",
      "2048.0\n",
      "4096.0\n",
      "8192.0\n",
      "16384.0\n",
      "32768.0\n",
      "65536.0\n",
      "131072.0\n",
      "262144.0\n",
      "524288.0\n",
      "1048576.0\n",
      "2097152.0\n",
      "4194304.0\n",
      "8388608.0\n",
      "16777216.0\n",
      "33554432.0\n",
      "67108864.0\n",
      "134217728.0\n",
      "268435456.0\n",
      "536870912.0\n"
     ]
    }
   ],
   "source": [
    "a0=float(input(\"donnez le prenier terme de lasuite de Fibonaci\"))\n",
    "a1=float(input(\"donnez le deuxieme terme de lasuite de Fibonaci\"))\n",
    "a={}\n",
    "a[0]=a0\n",
    "a[1]=a1\n",
    "print(a0)\n",
    "print(a1)\n",
    "for i in range(2,30):\n",
    "    a[i]=0.5*(a[i-1]+6*a[i-2])\n",
    "    print(a[i])"
   ]
  },
  {
   "cell_type": "markdown",
   "metadata": {},
   "source": [
    "7."
   ]
  },
  {
   "cell_type": "markdown",
   "metadata": {},
   "source": [
    "a."
   ]
  },
  {
   "cell_type": "code",
   "execution_count": 1,
   "metadata": {},
   "outputs": [
    {
     "name": "stdout",
     "output_type": "stream",
     "text": [
      "donnez le nombre de jours du mois de frevrier28\n",
      "c,est une année non bissextile\n"
     ]
    }
   ],
   "source": [
    "n=int(input(\"donnez le nombre de jours du mois de frevrier\"))\n",
    "if n==29:\n",
    "    print(\"cette année est une année bissextile\")\n",
    "else:\n",
    "    print(\"c'est une année non bissextile\")"
   ]
  },
  {
   "cell_type": "markdown",
   "metadata": {},
   "source": [
    "   b."
   ]
  },
  {
   "cell_type": "code",
   "execution_count": null,
   "metadata": {},
   "outputs": [],
   "source": []
  },
  {
   "cell_type": "markdown",
   "metadata": {},
   "source": [
    "8. "
   ]
  },
  {
   "cell_type": "markdown",
   "metadata": {},
   "source": [
    "    a)"
   ]
  },
  {
   "cell_type": "markdown",
   "metadata": {},
   "source": [
    "\"for loop\""
   ]
  },
  {
   "cell_type": "code",
   "execution_count": 7,
   "metadata": {},
   "outputs": [
    {
     "name": "stdout",
     "output_type": "stream",
     "text": [
      "donnez un nombre  12\n",
      "506\n"
     ]
    }
   ],
   "source": [
    "n=int(input(\"donnez un nombre  \"))\n",
    "a=0\n",
    "for i in range(0,n):\n",
    "    a+=i**2\n",
    "print(a)"
   ]
  },
  {
   "cell_type": "markdown",
   "metadata": {},
   "source": [
    "while loop"
   ]
  },
  {
   "cell_type": "code",
   "execution_count": 5,
   "metadata": {},
   "outputs": [
    {
     "name": "stdout",
     "output_type": "stream",
     "text": [
      "donnez un nombre  3\n",
      "5\n"
     ]
    }
   ],
   "source": [
    "n=int(input(\"donnez un nombre  \"))\n",
    "a=0\n",
    "i=0\n",
    "while i<n:\n",
    "    a+=i**2\n",
    "    i=i+1\n",
    "print(a)"
   ]
  },
  {
   "cell_type": "markdown",
   "metadata": {},
   "source": [
    "  b) "
   ]
  },
  {
   "cell_type": "markdown",
   "metadata": {},
   "source": [
    "    using \"for loop\""
   ]
  },
  {
   "cell_type": "code",
   "execution_count": 16,
   "metadata": {},
   "outputs": [
    {
     "name": "stdout",
     "output_type": "stream",
     "text": [
      "donnez un nombre  12\n",
      "le plus grand nombre  n est  3\n"
     ]
    }
   ],
   "source": [
    "M=int(input(\"donnez un nombre  \"))\n",
    "a=0\n",
    "rec=[]\n",
    "for i in range(1, M+1):\n",
    "    a=a+i**2\n",
    "    if M<=a:\n",
    "        rec.append(i)\n",
    "print(\"le plus grand nombre  n est \", rec[0])  "
   ]
  },
  {
   "cell_type": "markdown",
   "metadata": {},
   "source": [
    "using while loop"
   ]
  },
  {
   "cell_type": "code",
   "execution_count": 15,
   "metadata": {},
   "outputs": [
    {
     "name": "stdout",
     "output_type": "stream",
     "text": [
      "Please enter a natural number M : 12\n",
      "The smallest natural number n is 3\n"
     ]
    }
   ],
   "source": [
    "M = int(input(\"Please enter a natural number M : \"))\n",
    "a=0\n",
    "i=0\n",
    "while(i<=M):\n",
    "    a+=i**2\n",
    "    if M<=a:\n",
    "        print(\"The smallest natural number n is\", i)\n",
    "        break\n",
    "    i+=1    "
   ]
  },
  {
   "cell_type": "markdown",
   "metadata": {},
   "source": [
    "9."
   ]
  },
  {
   "cell_type": "markdown",
   "metadata": {},
   "source": [
    "     a) "
   ]
  },
  {
   "cell_type": "code",
   "execution_count": 21,
   "metadata": {},
   "outputs": [
    {
     "name": "stdout",
     "output_type": "stream",
     "text": [
      "donner un entier naturel8\n",
      "les diviseures de  8  sont\n",
      "1\n",
      "2\n",
      "4\n",
      "8\n"
     ]
    }
   ],
   "source": [
    "n=int(input(\"donner un entier naturel\"))\n",
    "print(\"les diviseures de \",n,\" sont\")\n",
    "for i in range(1,n+1):\n",
    "    if n%i==0:\n",
    "        print(i)\n"
   ]
  },
  {
   "cell_type": "markdown",
   "metadata": {},
   "source": [
    "   b)"
   ]
  },
  {
   "cell_type": "code",
   "execution_count": 22,
   "metadata": {},
   "outputs": [
    {
     "name": "stdout",
     "output_type": "stream",
     "text": [
      "donnez un entier naturel : 12\n",
      "lesfacteurs premierde  12 sont: \n",
      "2\n",
      "3\n"
     ]
    }
   ],
   "source": [
    "n= int(input(\"donnez un entier naturel : \"))\n",
    "print(\"lesfacteurs premierde \", n, \"sont: \")\n",
    "i=1\n",
    "while (i<=n):\n",
    "    j=0\n",
    "    if (n%i==0):\n",
    "        k=1\n",
    "        while (k<=i):\n",
    "            if(i%k==0):\n",
    "                j=j+1\n",
    "            k=k+1\n",
    "        if (j==2):\n",
    "            print(i)\n",
    "    i=i+1   "
   ]
  },
  {
   "cell_type": "markdown",
   "metadata": {},
   "source": [
    "10."
   ]
  },
  {
   "cell_type": "code",
   "execution_count": 24,
   "metadata": {},
   "outputs": [
    {
     "name": "stdout",
     "output_type": "stream",
     "text": [
      "entrer un entier dont vous vpoulez afficher latable demultiplicataio5\n",
      "5 x 0 = 0\n",
      "5 x 1 = 5\n",
      "5 x 2 = 10\n",
      "5 x 3 = 15\n",
      "5 x 4 = 20\n",
      "5 x 5 = 25\n",
      "5 x 6 = 30\n",
      "5 x 7 = 35\n",
      "5 x 8 = 40\n",
      "5 x 9 = 45\n"
     ]
    }
   ],
   "source": [
    "N=int(input(\"entrer un entier dont vous vpoulez afficher latable demultiplicataio\"))\n",
    "for i in range(0,10):\n",
    "    print(N,\"x\",i,\"=\",N*i)"
   ]
  },
  {
   "cell_type": "code",
   "execution_count": 27,
   "metadata": {},
   "outputs": [
    {
     "name": "stdout",
     "output_type": "stream",
     "text": [
      "0\n",
      "3\n",
      "6\n",
      "7\n",
      "9\n",
      "11\n",
      "12\n",
      "14\n",
      "15\n",
      "18\n",
      "21\n",
      "22\n",
      "24\n",
      "27\n",
      "28\n",
      "30\n",
      "33\n",
      "35\n",
      "36\n",
      "39\n"
     ]
    }
   ],
   "source": [
    "\n",
    "for i in range(0,41):\n",
    "    if i%3==0 or i%7==0 or i%11==0:\n",
    "         print(i)\n",
    "   "
   ]
  },
  {
   "cell_type": "markdown",
   "metadata": {},
   "source": [
    "12. "
   ]
  },
  {
   "cell_type": "code",
   "execution_count": 28,
   "metadata": {},
   "outputs": [
    {
     "name": "stdout",
     "output_type": "stream",
     "text": [
      "donne un réeldont tu veux déterminer la partie entière12.5\n"
     ]
    },
    {
     "data": {
      "text/plain": [
       "12"
      ]
     },
     "execution_count": 28,
     "metadata": {},
     "output_type": "execute_result"
    }
   ],
   "source": [
    "import math\n",
    "x=float(input(\"donne un réeldont tu veux déterminer la partie entière\"))\n",
    "math.floor(x)\n"
   ]
  },
  {
   "cell_type": "markdown",
   "metadata": {},
   "source": [
    "13."
   ]
  },
  {
   "cell_type": "code",
   "execution_count": 1,
   "metadata": {},
   "outputs": [
    {
     "name": "stdout",
     "output_type": "stream",
     "text": [
      "Enter le point (x, y) or q to quit: (1,5)\n",
      "The point (1,5) is in the 1st quadrant\n",
      "Enter le point (x, y) or q to quit: (4.5,5)\n"
     ]
    },
    {
     "ename": "ValueError",
     "evalue": "invalid literal for int() with base 10: '4.5'",
     "output_type": "error",
     "traceback": [
      "\u001b[0;31m---------------------------------------------------------------------------\u001b[0m",
      "\u001b[0;31mValueError\u001b[0m                                Traceback (most recent call last)",
      "\u001b[0;32m<ipython-input-1-10b5c7b5f616>\u001b[0m in \u001b[0;36m<module>\u001b[0;34m\u001b[0m\n\u001b[1;32m      3\u001b[0m     \u001b[0;32mif\u001b[0m \u001b[0mpoint\u001b[0m\u001b[0;34m==\u001b[0m\u001b[0;34m\"q\"\u001b[0m\u001b[0;34m:\u001b[0m\u001b[0;34m\u001b[0m\u001b[0;34m\u001b[0m\u001b[0m\n\u001b[1;32m      4\u001b[0m         \u001b[0;32mbreak\u001b[0m\u001b[0;34m\u001b[0m\u001b[0;34m\u001b[0m\u001b[0m\n\u001b[0;32m----> 5\u001b[0;31m     \u001b[0mx\u001b[0m\u001b[0;34m=\u001b[0m\u001b[0mint\u001b[0m\u001b[0;34m(\u001b[0m\u001b[0mpoint\u001b[0m\u001b[0;34m[\u001b[0m\u001b[0;36m1\u001b[0m\u001b[0;34m:\u001b[0m\u001b[0mpoint\u001b[0m\u001b[0;34m.\u001b[0m\u001b[0mindex\u001b[0m\u001b[0;34m(\u001b[0m\u001b[0;34m\",\"\u001b[0m\u001b[0;34m)\u001b[0m\u001b[0;34m]\u001b[0m\u001b[0;34m)\u001b[0m\u001b[0;34m\u001b[0m\u001b[0;34m\u001b[0m\u001b[0m\n\u001b[0m\u001b[1;32m      6\u001b[0m     \u001b[0my\u001b[0m\u001b[0;34m=\u001b[0m\u001b[0mint\u001b[0m\u001b[0;34m(\u001b[0m\u001b[0mpoint\u001b[0m\u001b[0;34m[\u001b[0m\u001b[0mpoint\u001b[0m\u001b[0;34m.\u001b[0m\u001b[0mindex\u001b[0m\u001b[0;34m(\u001b[0m\u001b[0;34m\",\"\u001b[0m\u001b[0;34m)\u001b[0m\u001b[0;34m+\u001b[0m\u001b[0;36m1\u001b[0m\u001b[0;34m:\u001b[0m \u001b[0mpoint\u001b[0m\u001b[0;34m.\u001b[0m\u001b[0mindex\u001b[0m\u001b[0;34m(\u001b[0m\u001b[0;34m\")\"\u001b[0m\u001b[0;34m)\u001b[0m\u001b[0;34m]\u001b[0m\u001b[0;34m)\u001b[0m\u001b[0;34m\u001b[0m\u001b[0;34m\u001b[0m\u001b[0m\n\u001b[1;32m      7\u001b[0m     \u001b[0;32mif\u001b[0m \u001b[0;34m(\u001b[0m\u001b[0mx\u001b[0m\u001b[0;34m>\u001b[0m\u001b[0;36m0\u001b[0m\u001b[0;34m)\u001b[0m \u001b[0;32mand\u001b[0m \u001b[0;34m(\u001b[0m\u001b[0my\u001b[0m\u001b[0;34m>\u001b[0m\u001b[0;36m0\u001b[0m\u001b[0;34m)\u001b[0m\u001b[0;34m:\u001b[0m\u001b[0;34m\u001b[0m\u001b[0;34m\u001b[0m\u001b[0m\n",
      "\u001b[0;31mValueError\u001b[0m: invalid literal for int() with base 10: '4.5'"
     ]
    }
   ],
   "source": [
    "while True:\n",
    "    point =input(\"Enter le point (x, y) or q to quit: \")\n",
    "    if point==\"q\":\n",
    "        break\n",
    "    x=int(point[1:point.index(\",\")])\n",
    "    y=int(point[point.index(\",\")+1: point.index(\")\")])\n",
    "    if (x>0) and (y>0):\n",
    "        print(\"The point {} is in the 1st quadrant\".format(point))\n",
    "    elif (x>0) and (y<0):\n",
    "        print(\"The point {} is in the 2nd quadrant\".format(point))\n",
    "    elif (x<0) and (y<0):    \n",
    "        print(\"The point {} is in the 3rd quadrant\".format(point))\n",
    "    elif (x<0) and (y>0):    \n",
    "        print(\"The point {} is in the 4th quadrant\".format(point))\n",
    "    elif ((x==0) and (y>0)) or ((x==0) and (y<0)):\n",
    "        print(\"The point {} is in the y axis\".format(point))\n",
    "    elif ((x>0) and (y==0)) or ((x<0) and (y==0)):\n",
    "        print(\"The point {} is in the x axis\".format(point))\n",
    "    elif (x==0) and (y==0):\n",
    "        print(\"The point {} is the origin\".format(point))"
   ]
  },
  {
   "cell_type": "markdown",
   "metadata": {},
   "source": [
    "14."
   ]
  },
  {
   "cell_type": "code",
   "execution_count": null,
   "metadata": {},
   "outputs": [],
   "source": [
    "while True:\n",
    "    x= int(input('Please enter an integer number between 0 and 9, x ='))\n",
    "    if (x>=0) and (x<=9):\n",
    "        Max= int(input(\"Please enter an integer number between 0 and 255, Max =\"))\n",
    "        if (Max>=0) and (Max<=255):\n",
    "            l=[]\n",
    "            for i in range(1, Max+1):\n",
    "                if (i%x==0):\n",
    "                    l.append(i)\n",
    "            print('All multiples of', x, 'that are between 0 and', Max, 'are :', l)\n",
    "            dec= input(\"Type Y to continue or N to stop : \")\n",
    "            if (dec==\"Y\"):\n",
    "                print(\"Continue\")\n",
    "            else:\n",
    "                print(\"Finish\")\n",
    "                break"
   ]
  },
  {
   "cell_type": "code",
   "execution_count": null,
   "metadata": {},
   "outputs": [],
   "source": []
  }
 ],
 "metadata": {
  "kernelspec": {
   "display_name": "Python 3",
   "language": "python",
   "name": "python3"
  }
 },
 "nbformat": 4,
 "nbformat_minor": 2
}
