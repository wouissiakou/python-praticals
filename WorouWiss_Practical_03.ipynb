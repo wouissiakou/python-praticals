{
 "cells": [
  {
   "cell_type": "markdown",
   "metadata": {
    "id": "12_fdbLn8p4A"
   },
   "source": [
    "\n",
    "\n",
    "    \n",
    "#    <center> <b> <span style=\"color:orange;\" >  `Python for Scientific Computing and Software Engineering ` </span> </b></center>\n",
    "\n",
    "\n",
    "## <center> <b> <span style=\"color:orange;\"> An Initiation to Programming using Python (Init2Py) </span> </b></center>\n",
    "\n",
    "### <center> <b> <span style=\"color:blue;\"> Travaux Pratiques: Objets itérables ou conteneurs</span> </b></center>\n"
   ]
  },
  {
   "cell_type": "markdown",
   "metadata": {
    "id": "E_ZB23H68p4D"
   },
   "source": [
    "###  <center> <b> <span style=\"color:blue;\"> Listes </span> </b></center>"
   ]
  },
  {
   "cell_type": "markdown",
   "metadata": {
    "id": "TAzYC_Ev8p4F"
   },
   "source": [
    "Issiakou WOROU WOUIGNANSO"
   ]
  },
  {
   "cell_type": "markdown",
   "metadata": {
    "id": "H0cIcjGk8p4G"
   },
   "source": [
    "#### **Exercice 00:** \n",
    ">**Déclarer une liste vide.**"
   ]
  },
  {
   "cell_type": "code",
   "execution_count": 1,
   "metadata": {
    "id": "45QEMilz8p4I"
   },
   "outputs": [],
   "source": [
    "lstv=[]"
   ]
  },
  {
   "cell_type": "markdown",
   "metadata": {
    "id": "zZ0XnwpB8p4J"
   },
   "source": [
    "#### **Exercice 01:** \n",
    ">**Déclarer une liste de plus de 5 éléments.**"
   ]
  },
  {
   "cell_type": "code",
   "execution_count": 2,
   "metadata": {
    "id": "HV32hLfA8p4L"
   },
   "outputs": [],
   "source": [
    "lp5=[1,2,3,4,5,6,7]"
   ]
  },
  {
   "cell_type": "markdown",
   "metadata": {
    "id": "tJpy6kNz8p4M"
   },
   "source": [
    "#### **Exercice 02:** \n",
    ">**Trouver la longueur de votre liste.**"
   ]
  },
  {
   "cell_type": "code",
   "execution_count": 3,
   "metadata": {
    "id": "627A_RNw8p4O"
   },
   "outputs": [
    {
     "data": {
      "text/plain": [
       "7"
      ]
     },
     "execution_count": 3,
     "metadata": {},
     "output_type": "execute_result"
    }
   ],
   "source": [
    "len(lp5)"
   ]
  },
  {
   "cell_type": "markdown",
   "metadata": {
    "id": "unFrwT5t8p4Q"
   },
   "source": [
    "#### **Exercice 03:** \n",
    ">**Obtenez le premier élément, l'élément central et le dernier élément de la liste.**\n",
    "\n"
   ]
  },
  {
   "cell_type": "code",
   "execution_count": 6,
   "metadata": {
    "id": "MUuc1gaQ8p4R"
   },
   "outputs": [
    {
     "name": "stdout",
     "output_type": "stream",
     "text": [
      "1\n",
      "4\n",
      "7\n"
     ]
    }
   ],
   "source": [
    "print(lp5[0])\n",
    "print(lp5[3])\n",
    "print(lp5[-1])"
   ]
  },
  {
   "cell_type": "markdown",
   "metadata": {
    "id": "4Rqp8q0L8p4R"
   },
   "source": [
    "#### **Exercice 04:** \n",
    ">**Déclarez une liste appelée mixed_data_types, mettez votre (nom, âge, taille, état civil, adresse).**"
   ]
  },
  {
   "cell_type": "code",
   "execution_count": 13,
   "metadata": {
    "id": "EoZPW2UH8p4S"
   },
   "outputs": [
    {
     "data": {
      "text/plain": [
       "['nom', 'âge', 'taille', 'état civil', 'adresse']"
      ]
     },
     "execution_count": 13,
     "metadata": {},
     "output_type": "execute_result"
    }
   ],
   "source": [
    "mixed_data_types=[]\n",
    "mixed_data_types.append('nom') \n",
    "mixed_data_types.append('âge') \n",
    "mixed_data_types.append('taille') \n",
    "mixed_data_types.append('état civil')\n",
    "mixed_data_types.append('adresse')\n",
    "mixed_data_types"
   ]
  },
  {
   "cell_type": "markdown",
   "metadata": {
    "id": "OPYSNV1l8p4T"
   },
   "source": [
    "#### **Exercice 05:** \n",
    "\n",
    "    1. Déclarez une variable liste appelée it_companies et attribuez les valeurs initiales Facebook, Google, Microsoft, Apple, IBM, Oracle et Amazon.\n",
    "\n",
    "    2. Imprimez la liste à l'aide de print()\n",
    "\n",
    "    3. Imprimez le nombre d'entreprises dans la liste\n",
    "\n",
    "    4. Imprimez la première, la moyenne et la dernière entreprise\n",
    "\n",
    "    5. Imprimez la liste après avoir modifié l'une des entreprises.\n",
    "\n",
    "    6. Ajout d'une entreprise informatique à it_companies\n",
    "\n",
    "    7. Insérer une entreprise informatique au milieu de la liste des entreprises\n",
    "\n",
    "    8. Changez le nom d'une des it_companies en majuscule (sauf IBM !)\n",
    "\n",
    "    9. Joignez les it_companies avec une chaîne '# ; '.\n",
    "\n",
    "    10. Vérifier si une certaine entreprise existe dans la liste it_companies.\n",
    "\n",
    "    11. Trier la liste en utilisant la méthode sort()\n",
    "\n",
    "    12. Inversez la liste par ordre décroissant à l'aide de la méthode reverse().\n",
    "\n",
    "    13. Supprimez les 3 premières entreprises de la liste.\n",
    "\n",
    "    14. Supprimez les 3 dernières entreprises de la liste.\n",
    "\n",
    "    15. Supprimez la ou les entreprises informatiques du milieu de la liste.\n",
    "\n",
    "    16. Supprimez la première entreprise informatique de la liste\n",
    "\n",
    "    17. Supprimez la ou les entreprises informatiques du milieu de la liste.\n",
    "\n",
    "    18. Retirer la dernière entreprise informatique de la liste\n",
    "\n",
    "    19. Supprimez toutes les entreprises informatiques de la liste\n",
    "\n",
    "    20. Détruire la liste des entreprises informatiques"
   ]
  },
  {
   "cell_type": "code",
   "execution_count": 47,
   "metadata": {
    "id": "4M_XODba8p4V"
   },
   "outputs": [
    {
     "name": "stdout",
     "output_type": "stream",
     "text": [
      "['Facebook', 'Google', 'Microsoft', 'Apple', 'IBM', 'Oracle', 'Amazon']\n",
      "Facebook Apple Amazon\n",
      "['Facebook', 'Google', 'wathsapp', 'Apple', 'IBM', 'Oracle', 'Amazon']\n",
      "['Facebook', 'Google', 'wathsapp', 'Apple', 'IBM', 'Oracle', 'Amazon', 'pivotech']\n",
      "GOOGLE\n",
      "Facebook# ; Google# ; wathsapp# ; Apple# ; IBM# ; Oracle# ; Amazon# ; pivotech\n",
      "['Facebook', 'Google', 'Amazon', 'pivotech']\n"
     ]
    },
    {
     "data": {
      "text/plain": [
       "['pivotech']"
      ]
     },
     "execution_count": 47,
     "metadata": {},
     "output_type": "execute_result"
    }
   ],
   "source": [
    "it_companies=['Facebook','Google','Microsoft','Apple','IBM','Oracle','Amazon']\n",
    "print(it_companies)\n",
    "len(it_companies)\n",
    "print(it_companies[0] , it_companies[(len(it_companies)-1)//2], it_companies[-1])\n",
    "it_companies[2]='wathsapp'\n",
    "print(it_companies)\n",
    "it_companies.append('pivotech')\n",
    "print(it_companies)\n",
    "print(it_companies[1].upper())\n",
    "j='# ; '.join(it_companies)\n",
    "print(j)\n",
    "recherchMo= [s for s in it_companies if \"o\" in s]\n",
    "print(recherchMo)\n",
    "#it_companies= list(filter(lambda x: 'Mic' in x, it_companies))\n",
    "#print(it_companie)\n",
    "it_companies.sort()\n",
    "it_companies\n",
    "it_companies.reverse()\n",
    "it_companies\n",
    "for i in range(0,3):\n",
    "    del it_companies[i]  #supprimer les trois premiers elements de la liste\n",
    "it_companies\n",
    "for j in range(-3,-1):\n",
    "    del it_companies[j]\n",
    "del it_companies[-1]\n",
    "it_companies\n",
    "#for j in range(-3,0):\n",
    " #   del it_companies[j]\n",
    "#print(it_companies)\n",
    "# Supprime les éléments des index 1 à 2\n",
    "#del it_companies[0:1]\n",
    "# Afficher la nouvelle liste \n",
    "#print(it_companies)\n",
    "#del it_companies[0]\n",
    "#print(it_companies)\n"
   ]
  },
  {
   "cell_type": "markdown",
   "metadata": {},
   "source": [
    "14. Supprimez les 3 dernières entreprises de la liste.\n"
   ]
  },
  {
   "cell_type": "code",
   "execution_count": 45,
   "metadata": {},
   "outputs": [],
   "source": [
    "#it_companies=['Facebook','Google','Microsoft','Apple','IBM','Oracle','Amazon']\n",
    "#for j in range(-3,0):\n",
    " #   del it_companies[j]\n",
    "#it_companies"
   ]
  },
  {
   "cell_type": "markdown",
   "metadata": {},
   "source": [
    "15. Supprimez la ou les entreprises informatiques du milieu de la liste."
   ]
  },
  {
   "cell_type": "code",
   "execution_count": 14,
   "metadata": {},
   "outputs": [
    {
     "name": "stdout",
     "output_type": "stream",
     "text": [
      "['Facebook', 'Oracle', 'Amazon']\n"
     ]
    }
   ],
   "source": [
    "#it_companies=['Facebook','Google','Microsoft','Apple','IBM','Oracle','Amazon']\n",
    "# Supprime les éléments des index 1 à 2\n",
    "#del it_companies[1:3]\n",
    "# Afficher la nouvelle liste \n",
    "#print(it_companies)"
   ]
  },
  {
   "cell_type": "markdown",
   "metadata": {},
   "source": [
    "16. Supprimez la première entreprise informatique de la liste"
   ]
  },
  {
   "cell_type": "code",
   "execution_count": 16,
   "metadata": {},
   "outputs": [
    {
     "data": {
      "text/plain": [
       "['Google', 'Microsoft', 'Apple', 'IBM', 'Oracle', 'Amazon']"
      ]
     },
     "execution_count": 16,
     "metadata": {},
     "output_type": "execute_result"
    }
   ],
   "source": [
    "#it_companies=['Facebook','Google','Microsoft','Apple','IBM','Oracle','Amazon']\n",
    "#del it_companies[0]\n",
    "#it_companies"
   ]
  },
  {
   "cell_type": "markdown",
   "metadata": {},
   "source": [
    "17. Supprimez la ou les entreprises informatiques du milieu de la liste."
   ]
  },
  {
   "cell_type": "code",
   "execution_count": null,
   "metadata": {},
   "outputs": [],
   "source": []
  },
  {
   "cell_type": "markdown",
   "metadata": {
    "id": "AfauolZA8p4V"
   },
   "source": [
    "#### **Exercice 06:** \n",
    "**Joindre les listes suivantes :**\n",
    "     \n",
    "         front_end = ['HTML', 'CSS', 'JS', 'React', 'Redux']  \n",
    "         back_end = ['Node','Express', 'MongoDB']"
   ]
  },
  {
   "cell_type": "code",
   "execution_count": 49,
   "metadata": {},
   "outputs": [
    {
     "data": {
      "text/plain": [
       "['HTML', 'CSS', 'JS', 'React', 'Redux', 'Node', 'Express', 'MongoDB']"
      ]
     },
     "execution_count": 49,
     "metadata": {},
     "output_type": "execute_result"
    }
   ],
   "source": [
    "front_end = ['HTML', 'CSS', 'JS', 'React', 'Redux']  \n",
    "back_end = ['Node','Express', 'MongoDB']\n",
    "join=front_end+back_end\n",
    "join"
   ]
  },
  {
   "cell_type": "code",
   "execution_count": null,
   "metadata": {},
   "outputs": [],
   "source": []
  },
  {
   "cell_type": "code",
   "execution_count": null,
   "metadata": {
    "id": "6V8OXDSW8p4W"
   },
   "outputs": [],
   "source": []
  },
  {
   "cell_type": "markdown",
   "metadata": {
    "id": "kASFM1bh8p4X"
   },
   "source": [
    "#### **Exercice 07:** \n",
    "Voici une liste de 10 âges d'étudiants :\n",
    "\n",
    "         ages = [19, 22, 19, 24, 20, 25, 26, 24, 25, 24]\n",
    "         \n",
    " \n",
    "    1. Trier la liste et trouver l'âge minimum et maximum.\n",
    "    2. Ajoutez à nouveau l'âge minimum et l'âge maximum à la liste.\n",
    "    3. Trouvez l'âge médian (un élément du milieu ou deux éléments du milieu divisés par deux).\n",
    "    4. Trouvez l'âge moyen (somme de tous les éléments divisée par leur nombre).\n",
    "    4. Trouver l'intervalle des âges (max moins min)\n",
    "    5. Comparez les valeurs de (min - moyenne) et (max - moyenne) en utilisant la méthode abs().\n",
    "        "
   ]
  },
  {
   "cell_type": "code",
   "execution_count": 89,
   "metadata": {
    "id": "TWTGGaOO8p4Z"
   },
   "outputs": [
    {
     "name": "stdout",
     "output_type": "stream",
     "text": [
      "l'age maximal est  26 et l'age minimal est  19\n",
      "24\n",
      "22.8\n",
      "l'intervalle des ages est  7\n",
      "(min - moyenne est) >= (ages)-ageMoyen) \n"
     ]
    }
   ],
   "source": [
    "ages = [19, 22, 19, 24, 20, 25, 26, 24, 25, 24]\n",
    "ageTri=sorted(ages)\n",
    "ageTri\n",
    "#m=min(ageTri)\n",
    "#M=max(ageTri)\n",
    "print(\"l'age maximal est \",ageTri[-1],\"et l'age minimal est \",ageTri[0])\n",
    "#x=len(ages)/2\n",
    "#print(x)\n",
    "median=ageTri[5]\n",
    "print(median)\n",
    "som=0\n",
    "for i in range(0,10):\n",
    "    som+=ages[i]\n",
    "ageMoyen=som/len(ages)\n",
    "print(ageMoyen)\n",
    "intevlMoyen=max(ages)-min(ages)\n",
    "print(\"l'intervalle des ages est \",intevlMoyen)\n",
    "a1=abs(min(ages)-ageMoyen)\n",
    "a2=abs(max(ages)-ageMoyen)\n",
    "if a1<a2:\n",
    "    print(\"min - moyenne est < ages)-ageMoyen \")\n",
    "else:\n",
    "    print(\"(min - moyenne est) >= (ages)-ageMoyen) \")\n",
    "        \n",
    "   \n",
    "          "
   ]
  },
  {
   "cell_type": "code",
   "execution_count": null,
   "metadata": {
    "id": "TEtbXitA8p4h"
   },
   "outputs": [],
   "source": []
  },
  {
   "cell_type": "markdown",
   "metadata": {
    "id": "bF7FI4iT8p4i"
   },
   "source": [
    "###  <center> <b> <span style=\"color:blue;\"> Dictionnaires </span> </b></center>"
   ]
  },
  {
   "cell_type": "markdown",
   "metadata": {
    "id": "VzcSJMf18p4j"
   },
   "source": [
    "\n",
    "1. Créer un dictionnaire vide appelé `dog`\n",
    "2. Ajoute le nom, la couleur, la race, les pattes, l'âge au dictionnaire dog.\n",
    "3. Créez un dictionnaire student et ajoutez le prénom, le nom, le sexe, l'âge, l'état civil, les compétences, le pays, la ville et l'adresse comme clés pour le dictionnaire.\n",
    "4. Obtenez la longueur du dictionnaire student\n",
    "5. Récupérez la valeur des compétences et vérifiez le type de données, il doit s'agir d'une liste.\n",
    "6. Modifiez les valeurs des compétences en ajoutant une ou deux compétences.\n",
    "7. Obtenez les clés du dictionnaire sous forme de liste\n",
    "8. Obtenir les valeurs du dictionnaire sous forme de liste\n",
    "9. Transformer le dictionnaire en une liste de tuples en utilisant la méthode items()\n",
    "10. Supprimer un des éléments du dictionnaire\n",
    "11. Supprimer un des dictionnaires\n"
   ]
  },
  {
   "cell_type": "code",
   "execution_count": 155,
   "metadata": {
    "id": "LJ6DfBUh8p4k"
   },
   "outputs": [
    {
     "name": "stdout",
     "output_type": "stream",
     "text": [
      "9\n"
     ]
    }
   ],
   "source": [
    "dog={}\n",
    "dog['nom']='Bio'\n",
    "dog['la couleur']='noire'\n",
    "dog['la race']='noire'\n",
    "dog['les pattes']='kotokoto'\n",
    "dog['âge']= 34\n",
    "dog\n",
    "student={}\n",
    "student['prénom']= 'Chabi'\n",
    "student['nom']= 'WOROU'\n",
    "student['sexe']='Masculin'\n",
    "student['âge']= 24\n",
    "student['état civil']= 'cebataire'\n",
    "student['competences']= ['maths et informatiques','biologie','statistique']\n",
    "student['le pays']='Benin'\n",
    "student[' la ville']='Cotonou'\n",
    "student[\"l'adresse\"]= \"03BP143256 cotonou Rue koutoukou\"\n",
    "student\n",
    "x=len(student)\n",
    "print(x)\n"
   ]
  },
  {
   "cell_type": "code",
   "execution_count": 156,
   "metadata": {
    "id": "rNdDqviE8p4l"
   },
   "outputs": [
    {
     "name": "stdout",
     "output_type": "stream",
     "text": [
      "{'prénom': 'Chabi', 'nom': 'WOROU', 'sexe': 'Masculin', 'âge': 24, 'état civil': 'cebataire', 'competences': ['maths et informatiques', 'biologie', 'statistique'], 'le pays': 'Benin', ' la ville': 'Cotonou', \"l'adresse\": '03BP143256 cotonou Rue koutoukou'}\n"
     ]
    }
   ],
   "source": [
    "print(student)"
   ]
  },
  {
   "cell_type": "code",
   "execution_count": 157,
   "metadata": {},
   "outputs": [
    {
     "name": "stdout",
     "output_type": "stream",
     "text": [
      "['maths et informatiques', 'biologie', 'statistique']\n"
     ]
    },
    {
     "data": {
      "text/plain": [
       "list"
      ]
     },
     "execution_count": 157,
     "metadata": {},
     "output_type": "execute_result"
    }
   ],
   "source": [
    "print(student['competences'])\n",
    "type(student['competences'])"
   ]
  },
  {
   "cell_type": "code",
   "execution_count": 158,
   "metadata": {},
   "outputs": [
    {
     "data": {
      "text/plain": [
       "{'prénom': 'Chabi',\n",
       " 'nom': 'WOROU',\n",
       " 'sexe': 'Masculin',\n",
       " 'âge': 24,\n",
       " 'état civil': 'cebataire',\n",
       " 'competences': ['maths et informatiques',\n",
       "  'biologie',\n",
       "  'statistique',\n",
       "  'endurant',\n",
       "  'courageux'],\n",
       " 'le pays': 'Benin',\n",
       " ' la ville': 'Cotonou',\n",
       " \"l'adresse\": '03BP143256 cotonou Rue koutoukou'}"
      ]
     },
     "execution_count": 158,
     "metadata": {},
     "output_type": "execute_result"
    }
   ],
   "source": [
    "student['competences'].append('endurant')\n",
    "student['competences'].append('courageux')\n",
    "student"
   ]
  },
  {
   "cell_type": "code",
   "execution_count": 159,
   "metadata": {},
   "outputs": [
    {
     "data": {
      "text/plain": [
       "dict_keys(['prénom', 'nom', 'sexe', 'âge', 'état civil', 'competences', 'le pays', ' la ville', \"l'adresse\"])"
      ]
     },
     "execution_count": 159,
     "metadata": {},
     "output_type": "execute_result"
    }
   ],
   "source": [
    "student.keys()"
   ]
  },
  {
   "cell_type": "code",
   "execution_count": 160,
   "metadata": {},
   "outputs": [
    {
     "name": "stdout",
     "output_type": "stream",
     "text": [
      "dict_items([('prénom', 'Chabi'), ('nom', 'WOROU'), ('sexe', 'Masculin'), ('âge', 24), ('état civil', 'cebataire'), ('competences', ['maths et informatiques', 'biologie', 'statistique', 'endurant', 'courageux']), ('le pays', 'Benin'), (' la ville', 'Cotonou'), (\"l'adresse\", '03BP143256 cotonou Rue koutoukou')])\n"
     ]
    }
   ],
   "source": [
    "#Transformer le dictionnaire en une liste de tuples en utilisant la méthode items()\n",
    "print(student.items())"
   ]
  },
  {
   "cell_type": "code",
   "execution_count": 161,
   "metadata": {},
   "outputs": [
    {
     "data": {
      "text/plain": [
       "{'nom': 'WOROU',\n",
       " 'sexe': 'Masculin',\n",
       " 'âge': 24,\n",
       " 'état civil': 'cebataire',\n",
       " 'competences': ['maths et informatiques',\n",
       "  'biologie',\n",
       "  'statistique',\n",
       "  'endurant',\n",
       "  'courageux'],\n",
       " 'le pays': 'Benin',\n",
       " ' la ville': 'Cotonou',\n",
       " \"l'adresse\": '03BP143256 cotonou Rue koutoukou'}"
      ]
     },
     "execution_count": 161,
     "metadata": {},
     "output_type": "execute_result"
    }
   ],
   "source": [
    "#Supprimer un des éléments du dictionnaire\n",
    "student.pop(('prénom'))\n",
    "student"
   ]
  },
  {
   "cell_type": "code",
   "execution_count": 163,
   "metadata": {},
   "outputs": [
    {
     "data": {
      "text/plain": [
       "{}"
      ]
     },
     "execution_count": 163,
     "metadata": {},
     "output_type": "execute_result"
    }
   ],
   "source": [
    "dog.clear()\n",
    "dog"
   ]
  },
  {
   "cell_type": "markdown",
   "metadata": {
    "id": "ugc1Itzb8p4l"
   },
   "source": [
    "<center> <b> <span style=\"color:orange;\"> 🎉 FÉLICITATIONS ! / CONGRATULATIONS !🎉 </span> </b></center>"
   ]
  },
  {
   "cell_type": "code",
   "execution_count": null,
   "metadata": {},
   "outputs": [],
   "source": []
  }
 ],
 "metadata": {
  "colab": {
   "name": "Exercices_02_Objets-itérables-ou-conteneurs.ipynb",
   "provenance": []
  },
  "kernelspec": {
   "display_name": "Python 3",
   "language": "python",
   "name": "python3"
  },
  "language_info": {
   "codemirror_mode": {
    "name": "ipython",
    "version": 3
   },
   "file_extension": ".py",
   "mimetype": "text/x-python",
   "name": "python",
   "nbconvert_exporter": "python",
   "pygments_lexer": "ipython3",
   "version": "3.7.3"
  }
 },
 "nbformat": 4,
 "nbformat_minor": 1
}
