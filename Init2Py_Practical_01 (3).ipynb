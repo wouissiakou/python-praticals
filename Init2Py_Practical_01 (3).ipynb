{
 "cells": [
  {
   "cell_type": "markdown",
   "metadata": {},
   "source": [
    "<center>\n",
    "    <a href=\"https://www.aims-senegal.org/\" ><img src=\"aimssn_logo.png\" style=\"float:center; max-width: 600px; display: inline\" alt=\"IMSP\"/> </a>\n",
    "    </center>\n",
    "    \n",
    "#    <center> <b> <span style=\"color:orange;\" >  `Python for Scientific Computing and Software Engineering ` </span> </b></center>\n",
    "\n",
    "\n",
    "## <center> <b> <span style=\"color:orange;\"> An Initiation to Programming using Python (Init2Py) </span> </b></center>\n",
    "\n",
    "### <center> <b> <span style=\"color:blue;\"> Practicals: Variables, Types & Operations </span> </b></center>"
   ]
  },
  {
   "cell_type": "markdown",
   "metadata": {},
   "source": [
    "**Exercise 00:**  \n",
    "\n",
    "> 1. Declare a variable `firstname` and assign it a value.\n",
    "> 2. Declare a `lastname` variable and assign a value to it.\n",
    "> 3. Declare a `full_name` variable and assign it a value.\n",
    "> 4. Declare a `country` variable and assign it a value.\n",
    "> 5. Declare a variable `city` and assign it a value.\n",
    "> 6. Declare a `age` variable and assign it a value.\n",
    "> 7. Declare a variable `year` and assign it a value.\n",
    "> 8. Declare a variable `is_marrie` and assign it a value.\n",
    "> 9. Declare a variable `is_true` and assign it a value.\n",
    "\n",
    "> For each of the above variable, display the value it contains using the `print()` function.\n",
    "\n",
    "\n"
   ]
  },
  {
   "cell_type": "code",
   "execution_count": 23,
   "metadata": {
    "scrolled": true
   },
   "outputs": [
    {
     "name": "stdout",
     "output_type": "stream",
     "text": [
      "Worou Wouignanso\n",
      "Issiakou\n",
      "Worou WouignansoIssiakou\n",
      "Africa\n",
      "Senegal\n",
      "34\n",
      "2021\n",
      "False\n",
      "True\n"
     ]
    }
   ],
   "source": [
    "firstname= \"Worou Wouignanso\"\n",
    "lastname= \"Issiakou\"\n",
    "full_name= firstname+lastname\n",
    "country= \"Africa\"\n",
    "city= \"Senegal\"\n",
    "age= 34\n",
    "year= 2021\n",
    "is_marrie= False\n",
    "is_true= True\n",
    "print(firstname)\n",
    "print(lastname)\n",
    "print(full_name)\n",
    "print(country)\n",
    "print(city)\n",
    "print(age)\n",
    "print(year)\n",
    "print(is_marrie)\n",
    "print(is_true)"
   ]
  },
  {
   "cell_type": "code",
   "execution_count": 27,
   "metadata": {},
   "outputs": [
    {
     "name": "stdout",
     "output_type": "stream",
     "text": [
      "<class 'int'>\n"
     ]
    }
   ],
   "source": [
    "print(type(age))"
   ]
  },
  {
   "cell_type": "code",
   "execution_count": 25,
   "metadata": {},
   "outputs": [
    {
     "ename": "SyntaxError",
     "evalue": "invalid syntax (<ipython-input-25-b0ffe66b87dd>, line 7)",
     "output_type": "error",
     "traceback": [
      "\u001b[0;36m  File \u001b[0;32m\"<ipython-input-25-b0ffe66b87dd>\"\u001b[0;36m, line \u001b[0;32m7\u001b[0m\n\u001b[0;31m    print(type(year))\u001b[0m\n\u001b[0m        ^\u001b[0m\n\u001b[0;31mSyntaxError\u001b[0m\u001b[0;31m:\u001b[0m invalid syntax\n"
     ]
    }
   ],
   "source": [
    "print(type(firstname))\n",
    "print(type(lastname))\n",
    "print(type(full_name))\n",
    "print(type(country))\n",
    "print(type(city)\n",
    "#print(type(age))\n",
    "print(type(year))\n",
    "print(type(is_marrie))\n",
    "print(type(is_true))\n"
   ]
  },
  {
   "cell_type": "code",
   "execution_count": 37,
   "metadata": {},
   "outputs": [
    {
     "name": "stdout",
     "output_type": "stream",
     "text": [
      "<class 'str'>\n",
      "<class 'str'>\n",
      "<class 'str'>\n",
      "<class 'str'>\n",
      "<class 'str'>\n",
      "<class 'int'>\n",
      "<class 'int'>\n",
      "<class 'bool'>\n",
      "<class 'bool'>\n"
     ]
    }
   ],
   "source": [
    "print(type(firstname))\n",
    "print(type(lastname))\n",
    "print(type(full_name))\n",
    "print(type(country))\n",
    "print(type(city))\n",
    "print(type(age))\n",
    "print(type(year))\n",
    "print(type(is_marrie))\n",
    "print(type(is_true))"
   ]
  },
  {
   "cell_type": "code",
   "execution_count": null,
   "metadata": {},
   "outputs": [],
   "source": []
  },
  {
   "cell_type": "markdown",
   "metadata": {},
   "source": [
    "**Exercise 02:** \n",
    "> Calculate the value of $y$ ($y = x^2 + 6x + 9$). Try using different values of $x$ and determine at what value of $x$ will $y$ be equal to 0.**"
   ]
  },
  {
   "cell_type": "code",
   "execution_count": 44,
   "metadata": {},
   "outputs": [
    {
     "name": "stdout",
     "output_type": "stream",
     "text": [
      "0\n"
     ]
    }
   ],
   "source": [
    "x=-3\n",
    "y=x*x+6*x+9\n",
    "print(y)"
   ]
  },
  {
   "cell_type": "markdown",
   "metadata": {},
   "source": [
    "**Exercise 03:** \n",
    ">    \n",
    "     1. Declare your age as an integer variable\n",
    "     2. Declare your height as a float variable\n",
    "     3. Declare a variable that stores the base and height of a triangle. Calculate the area of this triangle (area = 0.5 x b x h)."
   ]
  },
  {
   "cell_type": "code",
   "execution_count": 50,
   "metadata": {},
   "outputs": [
    {
     "name": "stdout",
     "output_type": "stream",
     "text": [
      "donner votre age34\n",
      "donnez votre taille1.66\n",
      "donner la base2\n",
      "donner la hauteur5\n",
      "l'aire du triangle est 5.0\n"
     ]
    }
   ],
   "source": [
    "age=int(input(\"donner votre age\"))\n",
    "height= float(input(\"donnez votre taille\"))\n",
    "base=float(input(\"donner la base\"))\n",
    "hauteur=int(input(\"donner la hauteur\"))\n",
    "aire=0.5*base*hauteur\n",
    "print(\"l'aire du triangle est\", aire)\n",
    "\n"
   ]
  },
  {
   "cell_type": "markdown",
   "metadata": {},
   "source": [
    "## *Tip: receiving input from the user *\n",
    "**To receive an input from the user, we use `input()`.**.\n",
    "\n",
    "**Example**\n",
    "Receive two numbers as input from the user and calculate their power:\n",
    "```python\n",
    "base = input(\"Enter a base: \")\n",
    "exponent = input(\"Enter an exponent: \")\n",
    "result = float(base) ** float(exponent)\n",
    "print(f \"{base} to the power of {exponent} = {result}\")\n",
    "```"
   ]
  },
  {
   "cell_type": "markdown",
   "metadata": {},
   "source": [
    "**Exercise 04:** \n",
    "> **Write a small code that asks the user to enter the side $a$, the side $b$ and the side $c$ of a triangle. Calculate the perimeter of the triangle (perimeter = a + b + c).**"
   ]
  },
  {
   "cell_type": "code",
   "execution_count": 52,
   "metadata": {},
   "outputs": [
    {
     "name": "stdout",
     "output_type": "stream",
     "text": [
      "donnez le premier cote  du triangle2\n",
      "donnez le deuxieme cote  du triangle5\n",
      "donnez le 3eme cote a du triangle1.5\n",
      "le perimetre du triangle est 8.5\n"
     ]
    }
   ],
   "source": [
    "a=float(input(\"donnez le premier cote  du triangle\"))\n",
    "b=float(input(\"donnez le deuxieme cote  du triangle\"))\n",
    "c=float(input(\"donnez le 3eme cote a du triangle\"))\n",
    "p=(a+b+c)\n",
    "print(\"le perimetre du triangle est\",p)"
   ]
  },
  {
   "cell_type": "markdown",
   "metadata": {},
   "source": [
    "**Exercise 05:** \n",
    "> **Obtain the length and width of a rectangle using the prompt. Calculate its `area`and its `perimeter`.**"
   ]
  },
  {
   "cell_type": "code",
   "execution_count": 53,
   "metadata": {},
   "outputs": [
    {
     "name": "stdout",
     "output_type": "stream",
     "text": [
      "donnez la longueure6\n",
      "donnez la largeur5\n",
      "le perimetre du rectangle est 22.0\n",
      "l'aire du rectanglees 30.0\n"
     ]
    }
   ],
   "source": [
    "a=float(input(\"donnez la longueure\"))\n",
    "b=float(input(\"donnez la largeur\"))\n",
    "p=(a+b)*2\n",
    "A=a*b\n",
    "print(\"le perimetre du rectangle est\",p)\n",
    "print(\"l'aire du rectanglees\",A)"
   ]
  },
  {
   "cell_type": "markdown",
   "metadata": {},
   "source": [
    "**Exercice 06:** \n",
    "> **Obtenez le rayon d'un cercle en utilisant l'invite. Calculez l'aire (aire = pi x r x r) et la circonférence (c = 2 x pi x r) où pi = 3,14.**"
   ]
  },
  {
   "cell_type": "code",
   "execution_count": 54,
   "metadata": {},
   "outputs": [
    {
     "name": "stdout",
     "output_type": "stream",
     "text": [
      "donnez le rayon du cercle2\n",
      "l'aire du cercle est: 12.56\n",
      "sa circonference est: 12.56\n"
     ]
    }
   ],
   "source": [
    "pi=3.14\n",
    "r=float(input(\"donnez le rayon du cercle\"))\n",
    "aire=pi*r*r\n",
    "c=2*pi*r\n",
    "print(\"l'aire du cercle est:\",aire)\n",
    "print(\"sa circonference est:\",c)"
   ]
  },
  {
   "cell_type": "markdown",
   "metadata": {},
   "source": [
    "**Exercice 07:**\n",
    "> **Calculez la pente, l'ordonnée à l'origine en x et l'ordonnée à l'origine en $y$ de $y = 2x -2$.**"
   ]
  },
  {
   "cell_type": "code",
   "execution_count": 59,
   "metadata": {},
   "outputs": [
    {
     "name": "stdout",
     "output_type": "stream",
     "text": [
      "Calculez la pente, l'ordonnée à l'origine en x et l'ordonnée à l'origine en  𝑦  de  𝑦=2𝑥−2 sont respectivement: 2 1.0 -2\n"
     ]
    }
   ],
   "source": [
    "#y=2*x-2\n",
    "p=2\n",
    "oy=-2\n",
    "ox=-oy/p\n",
    "print(\"Calculez la pente, l'ordonnée à l'origine en x et l'ordonnée à l'origine en  𝑦  de  𝑦=2𝑥−2 sont respectivement:\",p,ox,oy)\n"
   ]
  },
  {
   "cell_type": "markdown",
   "metadata": {},
   "source": [
    "**Exercice 08:** \n",
    "> **Rédigez un script qui demande à l'utilisateur d'entrer les heures et le taux horaire. Calculez la rémunération de la personne ?**"
   ]
  },
  {
   "cell_type": "code",
   "execution_count": 60,
   "metadata": {},
   "outputs": [
    {
     "name": "stdout",
     "output_type": "stream",
     "text": [
      "donnez l'heure de d'arriver8\n",
      "donnez l'heure de depart11\n",
      "donnez le taus horaire5000\n",
      "la renumeration est 15000.0\n"
     ]
    }
   ],
   "source": [
    "h1=float(input(\"donnez l'heure de d'arriver\"))\n",
    "h2=float(input(\"donnez l'heure de depart\"))\n",
    "t=float(input(\"donnez le taus horaire\"))\n",
    "r=(h2-h1)*t\n",
    "print(\"la renumeration est\",r)"
   ]
  },
  {
   "cell_type": "markdown",
   "metadata": {},
   "source": [
    "**Exercice 09:** \n",
    "> **Écrivez un script qui demande à l'utilisateur d'entrer le nombre d'années. Calculez le nombre de secondes qu'une personne peut vivre. Supposons qu'une personne puisse vivre cent ans.**"
   ]
  },
  {
   "cell_type": "code",
   "execution_count": 62,
   "metadata": {},
   "outputs": [
    {
     "name": "stdout",
     "output_type": "stream",
     "text": [
      "donnez le nombre d'années100\n",
      "la persenne peut vivre 3153600000 secondes\n"
     ]
    }
   ],
   "source": [
    "n=int(input(\"donnez le nombre d'années\"))\n",
    "ns=n*31536000\n",
    "print(\"la persenne peut vivre\",ns,\"secondes\")"
   ]
  },
  {
   "cell_type": "markdown",
   "metadata": {},
   "source": [
    "**Exercice 10:** \n",
    "> **Écrivez un script Python qui affiche le tableau suivant**\n",
    "\n",
    "    1 1 1 1 1\n",
    "    \n",
    "    2 1 2 4 8\n",
    "    \n",
    "    3 1 3 9 27\n",
    "    \n",
    "    4 1 4 16 64\n",
    "    \n",
    "    5 1 5 25 125"
   ]
  },
  {
   "cell_type": "code",
   "execution_count": 63,
   "metadata": {},
   "outputs": [
    {
     "name": "stdout",
     "output_type": "stream",
     "text": [
      "1 1 1 1 1\n",
      "2 1 2 4 8\n",
      "3 1 3 9 27\n",
      "4 1 4 16 64\n",
      "5 1 5 25 125\n"
     ]
    }
   ],
   "source": [
    "print(\"1 1 1 1 1\")\n",
    "print(\"2 1 2 4 8\")\n",
    "print(\"3 1 3 9 27\")\n",
    "print(\"4 1 4 16 64\")\n",
    "print(\"5 1 5 25 125\")"
   ]
  },
  {
   "cell_type": "markdown",
   "metadata": {},
   "source": [
    "**Exercise 11:** \n",
    ">**Assign the variables `time` and `distance` with the values $6.892$ and $19.7$. Calculate and display the value of the speed. Improve the display by imposing a digit after the decimal point.**"
   ]
  },
  {
   "cell_type": "code",
   "execution_count": 69,
   "metadata": {},
   "outputs": [
    {
     "name": "stdout",
     "output_type": "stream",
     "text": [
      "la valeur de la vitesse est 3.2\n"
     ]
    }
   ],
   "source": [
    "t=6\n",
    "d=19.4\n",
    "v=d/t\n",
    "c=round(v,1)\n",
    "print(\"la valeur de la vitesse est\",c)\n"
   ]
  },
  {
   "cell_type": "markdown",
   "metadata": {},
   "source": [
    "**Exercice 12:** \n",
    "> **Écrire un programme qui, à partir de la saisie d’un rayon et d’une hauteur, calcule levolume d’un cône droit.**"
   ]
  },
  {
   "cell_type": "code",
   "execution_count": 71,
   "metadata": {},
   "outputs": [
    {
     "name": "stdout",
     "output_type": "stream",
     "text": [
      "donnez le rayon2\n",
      "donnez la hauteur12\n",
      "le vplume du cône est:  50.24\n"
     ]
    }
   ],
   "source": [
    "r=float(input(\"donnez le rayon\"))\n",
    "h=float(input(\"donnez la hauteur\"))\n",
    "v=((r*r*3.14)*h)/3\n",
    "print(\"le vplume du cône est: \",v)"
   ]
  },
  {
   "cell_type": "markdown",
   "metadata": {},
   "source": [
    "**Exercise 13:** \n",
    "> **The user gives a positive integer and the program announces how many times in a row this integer is divisible by 2.**"
   ]
  },
  {
   "cell_type": "code",
   "execution_count": 87,
   "metadata": {},
   "outputs": [
    {
     "name": "stdout",
     "output_type": "stream",
     "text": [
      "donnez un nombre200\n",
      "ce nombtre es 3 fois divisible par deux\n"
     ]
    }
   ],
   "source": [
    "c=0\n",
    "r=int(input(\"donnez un nombre\"))\n",
    "while(r%2==0):\n",
    " c=c+1\n",
    " r=r/2\n",
    "print(\"ce nombtre es\",c,\"fois divisible par deux\")\n",
    "\n",
    "\n"
   ]
  },
  {
   "cell_type": "markdown",
   "metadata": {},
   "source": [
    "**Exercise 14:** \n",
    ">**The user gives an integer between 2 and 12, the program gives the number of ways to do this by rolling two dice."
   ]
  },
  {
   "cell_type": "code",
   "execution_count": 97,
   "metadata": {},
   "outputs": [
    {
     "name": "stdout",
     "output_type": "stream",
     "text": [
      "donnez un nombre compris entre 2 et 129\n",
      "donnez le premier nombre4\n",
      "donnez le deuxieme nombre2\n",
      "donnez le premier nombre5\n",
      "donnez le deuxieme nombre4\n",
      "on a 1 fois\n"
     ]
    }
   ],
   "source": [
    "j=0\n",
    "n=int(input(\"donnez un nombre compris entre 2 et 12\"))\n",
    "d1=int(input(\"donnez le premier nombre\"))\n",
    "d2=int(input(\"donnez le deuxieme nombre\"))\n",
    "            \n",
    "while(n!=d1+d2):\n",
    "             d1=int(input(\"donnez le premier nombre\"))\n",
    "             d2=int(input(\"donnez le deuxieme nombre\"))\n",
    "             j=j+1\n",
    "             \n",
    "                      \n",
    "print(\"on a\",j,\"fois\")"
   ]
  },
  {
   "cell_type": "markdown",
   "metadata": {},
   "source": [
    "**Exercice 15:** \n",
    "> **Utilisez la fonction d'entrée intégrée `input()` pour obtenir le `_prénom_`, le `_nom_`, le `_pays_d_origine` et l'`_age_` d'un utilisateur et stockez la valeur dans les noms des variables correspondantes.**"
   ]
  },
  {
   "cell_type": "code",
   "execution_count": null,
   "metadata": {},
   "outputs": [],
   "source": [
    "prenom= str(input(\"donnez le prenom\"))\n",
    "nom= str(input(\"donnez le nom\"))\n",
    "pay_d_origine= str(input(\"donnez le pays d'origine\"))"
   ]
  },
  {
   "cell_type": "markdown",
   "metadata": {},
   "source": [
    "**Exercice 16:** \n",
    "\n",
    "**Déclarer $5$ comme `num_one` et $4$ comme `num_two`**\n",
    "\n",
    "   1. Additionner `num_one` et `num_two` et affecter la valeur à une variable `totale`.\n",
    "   2. Soustraire `num_two` de `num_one` et affecter la valeur à une variable `diff`.\n",
    "   3. Multipliez le `num_one` et le `num_two` et attribuez la valeur à une variable `produit`.\n",
    "   4. Divisez le `num_one` par le `num_two` et attribuez la valeur à une variable `division`.\n",
    "   5. Calculez `num_one` à la puissance de `num_two` et attribuez la valeur à une variable `exp`."
   ]
  },
  {
   "cell_type": "code",
   "execution_count": null,
   "metadata": {},
   "outputs": [],
   "source": [
    "num_one=5\n",
    "num_two=4\n",
    "totale=num_one+num_two\n",
    "diff=num_one-num_two\n",
    "produit=num_one*num_two\n",
    "division=num_one-num_two\n",
    "exp=num_one**num_two\n"
   ]
  },
  {
   "cell_type": "markdown",
   "metadata": {},
   "source": [
    "<center> <b> <span style=\"color:orange;\"> 🎉 FÉLICITATIONS! / CONGRATULATIONS! 🎉 </span> </b></center>"
   ]
  }
 ],
 "metadata": {
  "kernelspec": {
   "display_name": "Python 3",
   "language": "python",
   "name": "python3"
  },
  "language_info": {
   "codemirror_mode": {
    "name": "ipython",
    "version": 3
   },
   "file_extension": ".py",
   "mimetype": "text/x-python",
   "name": "python",
   "nbconvert_exporter": "python",
   "pygments_lexer": "ipython3",
   "version": "3.7.3"
  }
 },
 "nbformat": 4,
 "nbformat_minor": 5
}
