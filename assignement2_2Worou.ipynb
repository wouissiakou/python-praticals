{
 "cells": [
  {
   "cell_type": "markdown",
   "metadata": {},
   "source": [
    "# Diouma Sira KA"
   ]
  },
  {
   "cell_type": "markdown",
   "metadata": {},
   "source": [
    "## InPy-02 - Functions & Recursions"
   ]
  },
  {
   "cell_type": "markdown",
   "metadata": {},
   "source": [
    "1. Write a python script that asks the user for the values of x and y and uses these inputs to compute the numerical value of the expression"
   ]
  },
  {
   "cell_type": "code",
   "execution_count": 1,
   "metadata": {},
   "outputs": [
    {
     "name": "stdout",
     "output_type": "stream",
     "text": [
      "Enter x = 6\n",
      "Enter y = 10\n",
      "The numerical value is:  -50637.3321292694\n"
     ]
    }
   ],
   "source": [
    "import math\n",
    "def fnum():\n",
    "    x=int(input(\"Enter x = \"))\n",
    "    y=int(input(\"Enter y = \"))\n",
    "    f= math.sqrt(x**(2+y))/(1/x + 2*math.sin(y))\n",
    "    print(\"The numerical value is: \", f)\n",
    "    return \n",
    "fnum()"
   ]
  },
  {
   "cell_type": "markdown",
   "metadata": {},
   "source": [
    "2. Write a function that given two integers b and n ( n is positive), calculates $b^n$ without using python's power operator. Name this function ownpowerfn.py."
   ]
  },
  {
   "cell_type": "code",
   "execution_count": null,
   "metadata": {},
   "outputs": [],
   "source": [
    "def ownpowerfn():\n",
    "    b=int(input(\" enter b = \"))\n",
    "    n=int(input(\"entrer n  = \"))\n",
    "    if (n>0):\n",
    "        i=1\n",
    "        g=b\n",
    "        while (i<n):\n",
    "            g*=b\n",
    "            i+=1\n",
    "        print(\"la valeur \", b,\"puissance\",n, \"is \", g) \n",
    "    else:    \n",
    "        return \n",
    "ownpowerfn()"
   ]
  },
  {
   "cell_type": "markdown",
   "metadata": {},
   "source": [
    "3. Write functions that do the following:"
   ]
  },
  {
   "cell_type": "markdown",
   "metadata": {},
   "source": [
    "a) Takes two arguments, and computes their arithmetic and geometric means. Name\n",
    "these functions arithmetic_mean and geometric_mean respectively."
   ]
  },
  {
   "cell_type": "code",
   "execution_count": 4,
   "metadata": {},
   "outputs": [
    {
     "name": "stdout",
     "output_type": "stream",
     "text": [
      "The arithmetic mean is  2.5\n"
     ]
    }
   ],
   "source": [
    "def arithmetic_mean(x, y):\n",
    "    m=(x+y)/2\n",
    "    print(\"The arithmetic mean is \", m)\n",
    "    return\n",
    "\n",
    "arithmetic_mean(2,3)"
   ]
  },
  {
   "cell_type": "code",
   "execution_count": null,
   "metadata": {},
   "outputs": [],
   "source": [
    "def geometric_mean(x, y):\n",
    "    g=(x*y)**(1/2)\n",
    "    print(\"The geometric mean is \", g)\n",
    "    return\n",
    "geometric_mean(2,3)"
   ]
  },
  {
   "cell_type": "markdown",
   "metadata": {},
   "source": [
    "b) Converts degree Celsius to Fahrenheit and vice versa. Name these two functions\n",
    "celsius_to_fahrenheit and fahrenheit_to_celsius respectively."
   ]
  },
  {
   "cell_type": "code",
   "execution_count": null,
   "metadata": {},
   "outputs": [],
   "source": [
    "def celsius_to_fahrenheit(x):\n",
    "    y=(9/5)*x + 32\n",
    "    print(x, \"Celsius equal to \", y, \"Fahrenheit\")\n",
    "    return\n",
    "celsius_to_fahrenheit(30)"
   ]
  },
  {
   "cell_type": "code",
   "execution_count": 4,
   "metadata": {},
   "outputs": [
    {
     "name": "stdout",
     "output_type": "stream",
     "text": [
      "86 Fahrenheit equal to  30.0 Celsius\n"
     ]
    }
   ],
   "source": [
    "def fahrenheit_to_celsius(x):\n",
    "    y=(5/9)*(x-32)\n",
    "    print(x, \"Fahrenheit equal to \", y, \"Celsius\")\n",
    "    return\n",
    "fahrenheit_to_celsius(86)"
   ]
  },
  {
   "cell_type": "markdown",
   "metadata": {},
   "source": [
    "c) Converts angle in degrees to radians and vice versa. Name these two functions\n",
    "degrees_to_radians and radians_to_degrees respectively."
   ]
  },
  {
   "cell_type": "code",
   "execution_count": 5,
   "metadata": {},
   "outputs": [
    {
     "name": "stdout",
     "output_type": "stream",
     "text": [
      "240 degrees equal to  4.1887902047863905 radians\n"
     ]
    }
   ],
   "source": [
    "import math\n",
    "def degrees_to_radians(x):\n",
    "    y=(x*math.pi)/180\n",
    "    print(x, \"degrees equal to \", y, \"radians\")\n",
    "    return\n",
    "degrees_to_radians(240)"
   ]
  },
  {
   "cell_type": "code",
   "execution_count": 8,
   "metadata": {},
   "outputs": [
    {
     "name": "stdout",
     "output_type": "stream",
     "text": [
      "4.19 radians equal to  240.06931615981495 degrees\n"
     ]
    }
   ],
   "source": [
    "import math\n",
    "def radians_to_degrees(x):\n",
    "    y=(180*x)/math.pi\n",
    "    print(x, \"radians equal to \", y, \"degrees\")\n",
    "    return\n",
    "radians_to_degrees(4.19)"
   ]
  },
  {
   "cell_type": "markdown",
   "metadata": {},
   "source": [
    "d) Computes the circumference and the area of a circle given the radius."
   ]
  },
  {
   "cell_type": "code",
   "execution_count": 11,
   "metadata": {},
   "outputs": [
    {
     "name": "stdout",
     "output_type": "stream",
     "text": [
      "The circumference of a circle of radius r = 3 is p = 18.84955592153876\n"
     ]
    }
   ],
   "source": [
    "import math\n",
    "def circumference(r):\n",
    "    p=2*math.pi*r\n",
    "    print(\"la circonference du cercle de rayon r =\", r, \"est p =\", p)\n",
    "    return\n",
    "circumference(3)"
   ]
  },
  {
   "cell_type": "code",
   "execution_count": 12,
   "metadata": {},
   "outputs": [
    {
     "name": "stdout",
     "output_type": "stream",
     "text": [
      "The area of a circle of radius r = 3 is A = 28.274333882308138\n"
     ]
    }
   ],
   "source": [
    "import math \n",
    "def area(r):\n",
    "    A=math.pi*r**2\n",
    "    print(\"Tl'aire du cercle de rayon r =\", r, \"est A =\", A)\n",
    "    return \n",
    "area(3)"
   ]
  },
  {
   "cell_type": "markdown",
   "metadata": {},
   "source": [
    "4. Write functions that do the following:"
   ]
  },
  {
   "cell_type": "markdown",
   "metadata": {},
   "source": [
    "a) Given two numbers, compute their average and geometrical mean and prints them."
   ]
  },
  {
   "cell_type": "code",
   "execution_count": 16,
   "metadata": {},
   "outputs": [
    {
     "name": "stdout",
     "output_type": "stream",
     "text": [
      "The average mean is  4.0\n",
      "The geometrical mean is  3.872983346207417\n"
     ]
    }
   ],
   "source": [
    "def av_geo(x, y):\n",
    "    m=(x+y)/2\n",
    "    print(\"The average mean is \", m)\n",
    "    g=(x*y)**(1/2)\n",
    "    print(\"The geometrical mean is \", g)\n",
    "    return\n",
    "av_geo(5,3)"
   ]
  },
  {
   "cell_type": "markdown",
   "metadata": {},
   "source": [
    "(i) Now write a program that performs this process 10 times, taking as input the means\n",
    "computed in the previous step. Name this function avggeom ."
   ]
  },
  {
   "cell_type": "code",
   "execution_count": null,
   "metadata": {},
   "outputs": [],
   "source": [
    "x=float(input(\"enter x : \"))\n",
    "y=float(input(\"enter y : \"))\n",
    "def average(x, y):\n",
    "    a=(x+y)/2\n",
    "    return a\n",
    "def geo_mean(x,y):\n",
    "    g=(x*y)**(1/2)\n",
    "    return g\n",
    "def avggeom(x, y):\n",
    "    print(average(x,y), geo_mean(x,y))\n",
    "    return average(x,y), geo_mean(x,y)\n",
    "n=(x,y)\n",
    "for i in range(0, 10):\n",
    "    t=n\n",
    "    n=avggeom(t[0],t[1])\n"
   ]
  },
  {
   "cell_type": "markdown",
   "metadata": {},
   "source": [
    "b) Write a function that computes the distance between two points in the plane. Use\n",
    "it in another program that computes the perimeter and the area of a triangle, given\n",
    "three points in the plane. Name this function distancefn."
   ]
  },
  {
   "cell_type": "code",
   "execution_count": 32,
   "metadata": {},
   "outputs": [
    {
     "name": "stdout",
     "output_type": "stream",
     "text": [
      "The distance between ( 1 , -3 ) and ( 3 , 8 ) is  11.180339887498949\n"
     ]
    }
   ],
   "source": [
    "import math\n",
    "def distance(x1,x2,y1,y2):\n",
    "    d=math.sqrt((x2-x1)**2+(y2-y1)**2)\n",
    "    print(\"The distance between (\",x1, \",\", y1, \") and (\",x2, \",\", y2, \") is \", d)\n",
    "    return\n",
    "distance(1,3,-3,8)"
   ]
  },
  {
   "cell_type": "code",
   "execution_count": 36,
   "metadata": {},
   "outputs": [
    {
     "name": "stdout",
     "output_type": "stream",
     "text": [
      "The perimeter of the triangle is  8.06449510224598\n",
      "The area of the triangle is  2.9999999999999996\n"
     ]
    }
   ],
   "source": [
    "import math\n",
    "def distance(x1,x2,y1,y2):\n",
    "    d=math.sqrt((x2-x1)**2+(y2-y1)**2)\n",
    "    return d\n",
    "def distancefn(x1,x2,x3,y1,y2,y3):\n",
    "    p=distance(x1,x2,y1,y2) + distance(x2,x3,y2,y3) + distance(x1,x3,y1,y3)\n",
    "    A=math.sqrt((p/2)*(p/2 -distance(x1,x2,y1,y2))*(p/2 -distance(x2,x3,y2,y3))*(p/2 - distance(x1,x3,y1,y3)))\n",
    "    print(\"The perimeter of the triangle is \", p)\n",
    "    print(\"The area of the triangle is \", A)\n",
    "    return \n",
    "distancefn(2,0,-1,0,2,0)"
   ]
  },
  {
   "cell_type": "markdown",
   "metadata": {},
   "source": [
    "5. Write a program that offers three options to the user:\n",
    " 1. Evaluation of factorial\n",
    " 2. Evaluation of a second degree equation\n",
    " 3. Exit\n",
    " \n",
    "The user selects one of the options and then the program requests the data needed and calls the corresponding function to produce a result. The program then repeats the process until the user says he wants to exit. Name this function fact2nddeg"
   ]
  },
  {
   "cell_type": "code",
   "execution_count": 6,
   "metadata": {},
   "outputs": [
    {
     "name": "stdout",
     "output_type": "stream",
     "text": [
      "Please enter A if you want Evaluation of factorial or B for Evaluation of Second degree equation or C for quit : A\n",
      "Please enter the value n which you want evaluate its factorial : 5\n",
      "The factorial of  5 is 120\n",
      "Please enter A if you want Evaluation of factorial or B for Evaluation of Second degree equation or C for quit : B\n",
      "Please enter the value of a as ax^2+bx+c=0 : 1\n",
      "Please enter the value of b as ax^2+bx+c=0 : 2\n",
      "Please enter the value of c as ax^2+bx+c=0 : 1\n",
      "The solution is x_0 =  -1.0\n",
      "Please enter A if you want Evaluation of factorial or B for Evaluation of Second degree equation or C for quit : B\n",
      "Please enter the value of a as ax^2+bx+c=0 : 3\n",
      "Please enter the value of b as ax^2+bx+c=0 : 1\n",
      "Please enter the value of c as ax^2+bx+c=0 : 8\n",
      "The solution is x_1 =  -0.16666666666666666  -j 1.6244657241348273  and x_2 =  -0.16666666666666666  +j 1.6244657241348273 , where j^2=-1.\n",
      "Please enter A if you want Evaluation of factorial or B for Evaluation of Second degree equation or C for quit : B\n",
      "Please enter the value of a as ax^2+bx+c=0 : 1\n",
      "Please enter the value of b as ax^2+bx+c=0 : 4\n",
      "Please enter the value of c as ax^2+bx+c=0 : 2\n",
      "The solution is x_1 =  -3.414213562373095 and x_2 =  -0.5857864376269049\n",
      "Please enter A if you want Evaluation of factorial or B for Evaluation of Second degree equation or C for quit : C\n",
      "Bye Bye!\n"
     ]
    }
   ],
   "source": [
    "import math\n",
    "def factorial(n):\n",
    "    if n == 0:\n",
    "        return 1\n",
    "    else:\n",
    "        return n * factorial(n-1)\n",
    "def seconddeg(a,b,c):\n",
    "    delta=b**2-4*a*c\n",
    "    if delta==0:\n",
    "        return print(\"The solution is x_0 = \", -b/(2*a))\n",
    "    elif delta > 0:\n",
    "        return print(\"The solution is x_1 = \", (-b-math.sqrt(delta))/(2*a), \"and x_2 = \", (-b+math.sqrt(delta))/(2*a) )\n",
    "    else:\n",
    "        return print(\"The solution is x_1 = \", -b/(2*a), \" -j\",(math.sqrt(-delta))/(2*a),\" and x_2 = \", -b/(2*a), \" +j\",(math.sqrt(-delta))/(2*a),\", where j^2=-1.\")  \n",
    "def fact2nddeg():\n",
    "    while True:\n",
    "        y=input(\"Please enter A if you want Evaluation of factorial or B for Evaluation of Second degree equation or C for quit : \")\n",
    "        if (y==\"A\"):\n",
    "            n=int(input(\"Please enter the value n which you want evaluate its factorial : \"))\n",
    "            print(\"The factorial of \", n, \"is\", factorial(n))\n",
    "        elif (y==\"B\"):\n",
    "            a=float(input(\"Please enter the value of a as ax^2+bx+c=0 : \"))\n",
    "            b=float(input(\"Please enter the value of b as ax^2+bx+c=0 : \"))\n",
    "            c=float(input(\"Please enter the value of c as ax^2+bx+c=0 : \"))\n",
    "            seconddeg(a,b,c)\n",
    "        else:\n",
    "            print(\"Bye Bye!\")\n",
    "            break\n",
    "fact2nddeg()        "
   ]
  },
  {
   "cell_type": "markdown",
   "metadata": {},
   "source": [
    "6. For a fixed real number x and a natural number n , we can define recursively x^n using the relations: x^0 = 1and x^n+1 = x.x^n ."
   ]
  },
  {
   "cell_type": "code",
   "execution_count": 6,
   "metadata": {},
   "outputs": [
    {
     "data": {
      "text/plain": [
       "-64"
      ]
     },
     "execution_count": 6,
     "metadata": {},
     "output_type": "execute_result"
    }
   ],
   "source": [
    "def power(x, n):\n",
    "    i=1\n",
    "    if (n==0):\n",
    "        return 1\n",
    "    if (n>0):\n",
    "        for j in range(abs(n)):\n",
    "            i=i*x\n",
    "        return i\n",
    "    else:\n",
    "        return 1/i\n",
    "power(-4,3)    \n",
    "    "
   ]
  },
  {
   "cell_type": "markdown",
   "metadata": {},
   "source": [
    "7. Write code that implements the Fibonacci sequence. Test your program at 100."
   ]
  },
  {
   "cell_type": "code",
   "execution_count": null,
   "metadata": {},
   "outputs": [],
   "source": [
    "def Fib():\n",
    "    n= int(input(\"Please enter the number of terms : \"))\n",
    "    n1, n2 = 0, 1\n",
    "    i = 0 \n",
    "    if n <= 0:\n",
    "        print(\"Please enter a positive integer\")\n",
    "    elif n == 1:\n",
    "        print(\"The Fibonacci sequence upto\", n, \"is :\")\n",
    "        print(n1)\n",
    "    else:\n",
    "        print(\"The Fibonacci sequence upto\", n, \"is :\")\n",
    "        while i < n:\n",
    "            print(n1)\n",
    "            nth = n1 + n2\n",
    "            n1 = n2\n",
    "            n2 = nth\n",
    "            i += 1\n",
    "        return\n",
    "Fib()    "
   ]
  },
  {
   "cell_type": "code",
   "execution_count": null,
   "metadata": {},
   "outputs": [],
   "source": []
  }
 ],
 "metadata": {
  "kernelspec": {
   "display_name": "Python 3",
   "language": "python",
   "name": "python3"
  },
  "language_info": {
   "codemirror_mode": {
    "name": "ipython",
    "version": 3
   },
   "file_extension": ".py",
   "mimetype": "text/x-python",
   "name": "python",
   "nbconvert_exporter": "python",
   "pygments_lexer": "ipython3",
   "version": "3.7.3"
  }
 },
 "nbformat": 4,
 "nbformat_minor": 2
}
